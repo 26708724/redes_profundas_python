{
 "cells": [
  {
   "cell_type": "markdown",
   "metadata": {
    "id": "uLPOr-8b1WvD"
   },
   "source": [
    "<a href=\"https://www.inove.com.ar\"><img src=\"https://raw.githubusercontent.com/InoveAlumnos/dataset_analytics_python/master/images/PA%20Banner.png\" width=\"1000\" align=\"center\"></a>\n",
    "\n",
    "\n",
    "# Imagenes\n",
    "\n",
    "Programa creado para mostrar ejemplos prácticos de los visto durante la clase<br>\n",
    "v2.0"
   ]
  },
  {
   "cell_type": "markdown",
   "metadata": {
    "id": "KYYTitTntBFP"
   },
   "source": [
    "### **Objetivos**\n",
    "*   Distinguir el concepto básico de ancho x alto en un pixel.\n",
    "*   Identificar los canales de color.\n",
    "*   Comprender los canales de color en una imagen digital.\n",
    "*   Diferenciar entre blanco y negro en una imagen digital.\n",
    "\n",
    "\n"
   ]
  },
  {
   "cell_type": "markdown",
   "metadata": {
    "id": "SBftKJxBVQ-9"
   },
   "source": [
    "# Uso y manipulación de imagenes"
   ]
  },
  {
   "cell_type": "code",
   "execution_count": null,
   "metadata": {
    "id": "yzvdYxQKO5uL"
   },
   "outputs": [],
   "source": [
    "#Librerias a implementar\n",
    "import os\n",
    "import platform\n",
    "\n",
    "import numpy as np\n",
    "import matplotlib.pyplot as plt\n",
    "import matplotlib.image as mpimg "
   ]
  },
  {
   "cell_type": "markdown",
   "metadata": {
    "id": "iw1hQty8GXeW"
   },
   "source": [
    "**Imagen digital:** Es la combinación de pixeles que da lugar a las imágenes digitales, son mapas de bits: Es decir, cuadrículas de pixeles que se fusionan de forma imperceptible para crear una imagen. \n",
    "\n",
    "**Un pixel:** Es el cuadrado más pequeño de tono, que, junto a otros pixeles, crea una cuadrícula que da lugar a una imagen.\n",
    "\n",
    "Fuente: https://www.adobe.com/ar/creativecloud/photography/discover/pixelate-image.html"
   ]
  },
  {
   "cell_type": "markdown",
   "metadata": {
    "id": "5AEwFySyGG3H"
   },
   "source": [
    "## 1 - Dimensiones de una imagen."
   ]
  },
  {
   "cell_type": "markdown",
   "metadata": {
    "id": "01vze6JbOp8t"
   },
   "source": [
    "Crear una imagen considerando alto y ancho con Matplotlib."
   ]
  },
  {
   "cell_type": "code",
   "execution_count": null,
   "metadata": {
    "id": "2LLXFc6WGUkO"
   },
   "outputs": [],
   "source": [
    "# plt alias Matplotlib.\n",
    "# Método figure() crea el espacio para dibujar.\n",
    "fig = plt.figure()\n",
    "\n",
    "# Crea el gráfico ax\n",
    "ax = fig.add_subplot()\n",
    "\n",
    "# Los píxeles tienen dimensiones para alto, ancho\n",
    "# imagen_pixel, es un array numpy de zeros (np.zeros)\n",
    "# Que tiene como parámetros shape(alto, ancho) \n",
    "# dtype tipo de dato que representa un entero de 8 bits sin signo con números comprendidos entre  0 y 255.\n",
    "imagen_pixel = np.zeros(shape=(10,10), dtype=np.uint8)\n",
    "\n",
    "# Del gráfico ax se implementa el método .imshow()\n",
    "# que necesita la imagen o pixel a mostrar\n",
    "ax.imshow(imagen_pixel)\n",
    "\n",
    "# Muestra la imagen\n",
    "plt.show()"
   ]
  },
  {
   "cell_type": "code",
   "execution_count": null,
   "metadata": {
    "id": "Ov4Qlxm6OLuW"
   },
   "outputs": [],
   "source": [
    "# Información del alto y ancho de la imagen con shape(alto, ancho)\n",
    "print(\"Canales o profundiad de la imagen:\", imagen_pixel.shape)"
   ]
  },
  {
   "cell_type": "markdown",
   "metadata": {
    "id": "etuGA1xX9EN_"
   },
   "source": [
    "## 2 - Canales de Color"
   ]
  },
  {
   "cell_type": "markdown",
   "metadata": {
    "id": "vv6P81AoKjs9"
   },
   "source": [
    " Un pixel, tiene un canal de color representado por un valor para los colores RGB(RED, GREEN y BLUE) y se puede variar en la escala que puede ir de 0 a 1, o de:\n",
    " *  255 (el valor máximo) significa mayor luz.\n",
    " *  0 (el valor mínimo) significa menor cantidad de luz (oscuro)."
   ]
  },
  {
   "cell_type": "markdown",
   "metadata": {
    "id": "GIrvDmEREHiW"
   },
   "source": [
    "**Imagen considerando los canales de color con Matplotlib.**"
   ]
  },
  {
   "cell_type": "code",
   "execution_count": null,
   "metadata": {
    "id": "YtIAeYTHBNE_"
   },
   "outputs": [],
   "source": [
    "# plt alias de Matplotlib.\n",
    "# Método figure() crea el espacio para dibujar.\n",
    "# Con figsize=(16,9) se define el ancho y alto del dibujo\n",
    "fig = plt.figure(figsize=(16,9))\n",
    "\n",
    "# Agrega un titulo y tamaño de fuente(letra) al gráfico.\n",
    "fig.suptitle('Img con RGB', fontsize=16)\n",
    "\n",
    "# Crea el gráfico ax\n",
    "ax = fig.add_subplot()\n",
    "\n",
    "# imagen, es un array numpy de unos (np.ones)\n",
    "# shape=(3, 9, 3), se especifica el alto, ancho y canal de color\n",
    "# dtype tipo de dato que representa un entero de 8 bits sin signo con números comprendidos entre  0 y 255.\n",
    "imagen = np.ones(shape=(3, 9, 3), dtype=np.uint8)\n",
    "\n",
    "# Modificando los canales de color\n",
    "# imagen[alto, ancho, canal RGB|012] = escala de color\n",
    "imagen[:, 0:3, 0] = 255\n",
    "imagen[:, 3:6, 1] = 255\n",
    "imagen[:, 6:9, 2] = 255\n",
    "\n",
    "# Del gráfico ax se implementa el método .imshow()\n",
    "# que necesita la imagen o pixel a mostrar\n",
    "ax.imshow(imagen)\n",
    "\n",
    "# Muestra la imagen\n",
    "plt.show()"
   ]
  },
  {
   "cell_type": "code",
   "execution_count": null,
   "metadata": {
    "id": "my4UoEdCN4F3"
   },
   "outputs": [],
   "source": [
    "# Los canales de color o profundidad de la imagen representan la tercera dimensión\n",
    "# luego del alto y el ancho\n",
    "print(\"Canales o profundiad de la imagen:\", imagen.shape)"
   ]
  },
  {
   "cell_type": "markdown",
   "metadata": {
    "id": "2Kkbu6X5WAiG"
   },
   "source": [
    "¿Qué sucede si colocamos los tres canales con su máximo o mínimo brillo?"
   ]
  },
  {
   "cell_type": "code",
   "execution_count": null,
   "metadata": {
    "id": "Djox9MzUP_41"
   },
   "outputs": [],
   "source": [
    "# plt alias de Matplotlib.\n",
    "# Método figure() crea el espacio para dibujar.\n",
    "# Con figsize=(16,9) se define el ancho y alto del dibujo\n",
    "fig = plt.figure(figsize=(16,9))\n",
    "\n",
    "# Agrega un titulo y tamaño de fuente(letra) al gráfico.\n",
    "fig.suptitle('Los tres canales juntos', fontsize=16)\n",
    "\n",
    "# Crean dos gráficos ax1 y ax2 en el mismo espacio del dibujo\n",
    "# ubicación de los gráficos (fila, columna, posición) \n",
    "ax1 = fig.add_subplot(1, 2, 1)\n",
    "ax2 = fig.add_subplot(1, 2, 2)\n",
    "\n",
    "# imagen, es un array numpy de unos (np.ones)\n",
    "# shape=(16, 16, 3), se especifica el alto, ancho y canal de color\n",
    "# dtype tipo de dato que representa un entero de 8 bits sin signo con números comprendidos entre  0 y 255.\n",
    "imagen_blanca = np.ones(shape=(16, 16, 3), dtype=np.uint8)\n",
    "\n",
    "# Para todos los canales de color : los iguales a 255 máximo brillo (blanco)\n",
    "imagen_blanca[:, :, :] = 255\n",
    "\n",
    "# Del gráfico ax1 se implementa el método .imshow()\n",
    "# que necesita la imagen_blanca  a mostrar\n",
    "ax1.imshow(imagen_blanca)\n",
    "\n",
    "# Agrega un subtitulos\n",
    "ax1.set_title(\"imagen_blanca[:, :, :] = 255\")\n",
    "\n",
    "# Mismo procedimiento para la imagen en color negro.\n",
    "imagen_negra = np.ones(shape=(16, 16, 3), dtype=np.uint8)\n",
    "imagen_negra[:, :, :] = 0\n",
    "ax2.imshow(imagen_negra)\n",
    "ax2.set_title(\"imagen_negra[:, :, :] = 0\")\n",
    "plt.show()"
   ]
  },
  {
   "cell_type": "markdown",
   "metadata": {
    "id": "6fhff6UQHmpE"
   },
   "source": [
    "### 3 - Canales de color en una imagen digital."
   ]
  },
  {
   "cell_type": "markdown",
   "metadata": {
    "id": "qQWNcUA9aGBU"
   },
   "source": [
    "### Código de descarga del dataset"
   ]
  },
  {
   "cell_type": "code",
   "execution_count": null,
   "metadata": {
    "id": "Stk12o0JEUt7"
   },
   "outputs": [],
   "source": [
    "if os.access('morrones.jpg', os.F_OK) is False:\n",
    "    if platform.system() == 'Windows':\n",
    "        !curl https://raw.githubusercontent.com/InoveAlumnos/redes_profundas_python/main/morrones.jpg > morrones.jpg\n",
    "    else:\n",
    "        !wget morrones.jpg https://raw.githubusercontent.com/InoveAlumnos/redes_profundas_python/main/morrones.jpg"
   ]
  },
  {
   "cell_type": "code",
   "execution_count": null,
   "metadata": {
    "id": "lEdmSFVA5rmT"
   },
   "outputs": [],
   "source": [
    "# Leer imagen\n",
    "# Utilizando la herramienta importada de import matplotlib.image as mpimg \n",
    "# y el método .imread() indicandole el nombre de la imagen descargada\n",
    "img = mpimg.imread('morrones.jpg') \n",
    "  \n",
    "# Mostrar imagen \n",
    "plt.imshow(img)\n",
    "plt.show()"
   ]
  },
  {
   "cell_type": "code",
   "execution_count": null,
   "metadata": {
    "id": "7ObXnScB7p3d"
   },
   "outputs": [],
   "source": [
    "print(\"Dimensiones: alto:\", img.shape[0], \", ancho:\", img.shape[1], \", canales:\", img.shape[2]) \n",
    "print(img.shape)"
   ]
  },
  {
   "cell_type": "markdown",
   "metadata": {
    "id": "KFp6GQsq-0OO"
   },
   "source": [
    "### Hacer una copia de la imagen inicial y resaltar los canales de color en su máximo brillo."
   ]
  },
  {
   "cell_type": "code",
   "execution_count": null,
   "metadata": {
    "id": "T0ey7qLQhcRj"
   },
   "outputs": [],
   "source": [
    "# Se almacena en morron_v la imagen recortada por alto y ancho\n",
    "morron_v = img[140:560,0:330,:]\n",
    "\n",
    "# Método imshow() para mostrar la imagen\n",
    "plt.imshow(morron_v)\n",
    "\n",
    "# Mostrar la imagen.\n",
    "plt.show()"
   ]
  },
  {
   "cell_type": "code",
   "execution_count": null,
   "metadata": {
    "id": "xDrPEn63gYy7"
   },
   "outputs": [],
   "source": [
    "# Para hacer una copia a partir de la imagen inicial se emplea el método copy().\n",
    "copia = img.copy()\n",
    "\n",
    "# Se igualan el array copia y la imagen en cuanto a: alto, ancho y canales de color\n",
    "copia[:,:,:] = img[:,:,:]\n",
    "\n",
    "# Resaltar los canales\n",
    "# imagen[alto,ancho,canal de color] = escala que va de 0 a 255\n",
    "copia[:,:,0] = 255\n",
    "\n",
    "# Método imshow() para mostrar la imagen\n",
    "plt.imshow(copia)\n",
    "\n",
    "# Mostrar la imagen.\n",
    "plt.show()"
   ]
  },
  {
   "cell_type": "code",
   "execution_count": null,
   "metadata": {
    "id": "jLtgboBUINL9"
   },
   "outputs": [],
   "source": [
    "# Para hacer una copia a partir de la imagen inicial se emplea el método copy().\n",
    "copia1 = img.copy()\n",
    "\n",
    "# Se igualan el array copia y la imagen en cuanto a: alto, ancho y canales de color\n",
    "copia1[:,:,:] = img[:,:,:]\n",
    "\n",
    "# Resaltar los canales\n",
    "# imagen[alto,ancho,canal de color] = escala que va de 0 a 255\n",
    "copia1[:,:,2] = 255\n",
    "\n",
    "# Método imshow() para mostrar la imagen\n",
    "plt.imshow(copia1)\n",
    "\n",
    "# Mostrar la imagen.\n",
    "plt.show()"
   ]
  },
  {
   "cell_type": "markdown",
   "metadata": {
    "id": "cP6jr3uaB8q1"
   },
   "source": [
    "Cambiar el fondo a negro"
   ]
  },
  {
   "cell_type": "code",
   "execution_count": null,
   "metadata": {
    "id": "rePcxldVEvGD"
   },
   "outputs": [],
   "source": [
    "# La imagen de los morrones tiene fondo blanco, es decir que sus tres canales\n",
    "# están en 255. Mediante un blucle podemos generar una magen sin el fondo\n",
    "# Creamos una magen de igual tamaño a la de los morrones pero inicializada\n",
    "# sus canales en 0 (negro, será el nuevo color de fondo)\n",
    "imagen_sinfondo = np.zeros(shape=img.shape, dtype=np.uint8) * 0\n",
    "\n",
    "# Realizar un bucle que recorra la dimensión 700x1000\n",
    "for h in range(img.shape[0]):\n",
    "    for w in range(img.shape[1]):\n",
    "        canal_red = img[h, w, 0]\n",
    "        canal_green = img[h, w, 1]\n",
    "        canal_blue = img[h, w, 2]\n",
    "        if canal_red == 255 and canal_green == 255 and canal_blue == 255:\n",
    "             # reemplazar fondo blanco por fondo negro\n",
    "            imagen_sinfondo[h, w, :] = 0\n",
    "        else:\n",
    "            # sino es fondo, copiar de la imagen original\n",
    "            imagen_sinfondo[h, w, :] = img[h, w, :] \n",
    "\n",
    "plt.imshow(imagen_sinfondo)\n",
    "plt.show()"
   ]
  },
  {
   "cell_type": "code",
   "execution_count": null,
   "metadata": {
    "id": "8NHkK0U9G2ff"
   },
   "outputs": [],
   "source": [
    "# Máscara para sacar el blacno (eliminar el fondo)\n",
    "img_negra = img.copy()\n",
    "\n",
    "# Mascara que se encarga de ubicar el fondo blanco y cambiarlo por color negro.\n",
    "img_negra[(img == [255,255,255]).all(-1), :] = 0\n",
    "\n",
    "# Mostrar la imagen, indicando la imagen, los valores mínimos y máximos de la escala.\n",
    "plt.imshow(img_negra, vmin=0, vmax=255)\n",
    "plt.show()"
   ]
  },
  {
   "cell_type": "markdown",
   "metadata": {
    "id": "EkFATpYfVUzT"
   },
   "source": [
    "## 4 - Imagenes en escala de grises (1 dimensión de profundidad)"
   ]
  },
  {
   "cell_type": "code",
   "execution_count": null,
   "metadata": {
    "id": "cSsrK80KemWE"
   },
   "outputs": [],
   "source": [
    "# imagen, es un array numpy de unos (np.ones)\n",
    "# shape=(16, 16), se especifica el alto, ancho, sin canales de color.\n",
    "# dtype tipo de dato que representa un entero de 8 bits sin signo con números comprendidos entre  0 y 255.\n",
    "\n",
    "img3 = np.ones(shape=(16,16), dtype=np.uint8)\n",
    "\n",
    "# Se agrega un color en cada porción del ancho.\n",
    "img3[:,:4] = 0\n",
    "img3[:,4:8] = 120\n",
    "img3[:,8:12] = 180\n",
    "img3[:,12:16] = 255\n",
    "\n",
    "# Mostrar la imagen en escalas de grises.\n",
    "# cmap='gray', variación de colores en grises.\n",
    "plt.imshow(img3, cmap='gray', vmin=0, vmax=255)\n",
    "plt.show()"
   ]
  },
  {
   "cell_type": "markdown",
   "metadata": {
    "id": "nv-g1dGGFJou"
   },
   "source": [
    "## 5 - Imagen a RGB (color) a escala de grises"
   ]
  },
  {
   "cell_type": "code",
   "execution_count": null,
   "metadata": {
    "id": "XhokHzm5FfLy"
   },
   "outputs": [],
   "source": [
    "# Fórmula para transformar una imagen a color (3 canales)\n",
    "# a escala de grises (1 canal)\n",
    "# Al traducir una imagen en color a escala de grises (modo \"L\"), la biblioteca utiliza la transformación de luminancia.\n",
    "# Fuente: https://pillow.readthedocs.io/en/stable/reference/Image.html#PIL.Image.Image.convert\n",
    "\n",
    "def rgb2gray(rgb):\n",
    "    return np.dot(rgb[...,:3], [0.2989, 0.5870, 0.1140])"
   ]
  },
  {
   "cell_type": "code",
   "execution_count": null,
   "metadata": {
    "id": "CRARsMk0Fhtj"
   },
   "outputs": [],
   "source": [
    "# Se invoca la función\n",
    "gray = rgb2gray(img)    \n",
    "\n",
    "# cmap='gray', variación de colores en grises, indicando los valores máximo y mínimo de la escala de colores.\n",
    "plt.imshow(gray, cmap='gray', vmin=0, vmax=255)\n",
    "plt.show()"
   ]
  },
  {
   "cell_type": "code",
   "execution_count": null,
   "metadata": {
    "id": "foiKv6eTGC-T"
   },
   "outputs": [],
   "source": [
    "print(\"Dimensiones: alto:\", gray.shape[0], \", ancho:\", gray.shape[1], \", canales:\", 1) \n",
    "print(gray.shape)"
   ]
  }
 ],
 "metadata": {
  "colab": {
   "provenance": []
  },
  "kernelspec": {
   "display_name": "Python 3",
   "language": "python",
   "name": "python3"
  },
  "language_info": {
   "codemirror_mode": {
    "name": "ipython",
    "version": 3
   },
   "file_extension": ".py",
   "mimetype": "text/x-python",
   "name": "python",
   "nbconvert_exporter": "python",
   "pygments_lexer": "ipython3",
   "version": "3.8.10"
  },
  "vscode": {
   "interpreter": {
    "hash": "94a930c30f6059bb6430f48cfe302145be48163d734a1d42b41563f8e254b9ed"
   }
  }
 },
 "nbformat": 4,
 "nbformat_minor": 4
}
