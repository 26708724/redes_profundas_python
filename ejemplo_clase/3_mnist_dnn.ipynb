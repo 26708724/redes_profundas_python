{
 "cells": [
  {
   "cell_type": "markdown",
   "metadata": {
    "id": "67RBrvkUviuj"
   },
   "source": [
    "<a href=\"https://www.inove.com.ar\"><img src=\"https://raw.githubusercontent.com/InoveAlumnos/dataset_analytics_python/master/images/PA%20Banner.png\" width=\"1000\" align=\"center\"></a>\n",
    "\n",
    "\n",
    "# Ejercicio de clasificación con redes neuronales profundas (DNN)\n",
    "\n",
    "Ejemplo de clasificación utilizando redes neuronales para la clasificación de imagenes<br>\n",
    "\n",
    "v1.1"
   ]
  },
  {
   "cell_type": "code",
   "execution_count": null,
   "metadata": {
    "id": "y2sSeyEovSw-"
   },
   "outputs": [],
   "source": [
    "import os\n",
    "import platform\n",
    "\n",
    "import numpy as np\n",
    "import matplotlib.pyplot as plt\n",
    "import seaborn as sns\n",
    "import pandas as pd\n",
    "\n",
    "import keras\n",
    "from keras.models import Sequential\n",
    "from keras.utils import to_categorical"
   ]
  },
  {
   "cell_type": "markdown",
   "metadata": {
    "id": "7Szo7P_3v00C"
   },
   "source": [
    "# Recolectar datos\n",
    "<img src=\"https://raw.githubusercontent.com/InoveAlumnos/dataset_analytics_python/master/images/Pipeline1.png\" width=\"1000\" align=\"middle\">"
   ]
  },
  {
   "cell_type": "code",
   "execution_count": null,
   "metadata": {
    "colab": {
     "base_uri": "https://localhost:8080/"
    },
    "executionInfo": {
     "elapsed": 3732,
     "status": "ok",
     "timestamp": 1606080709383,
     "user": {
      "displayName": "inove",
      "photoUrl": "https://lh3.googleusercontent.com/a-/AOh14GhXN9lpkKFLA5gp8tW9cD3CZ1yGa9DUy9HZOgZm=s64",
      "userId": "03494171924251581304"
     },
     "user_tz": 180
    },
    "id": "HnVpNGuAvyFi",
    "outputId": "cd84929a-d6c1-45fe-c30d-4e4737ad4fb5"
   },
   "outputs": [],
   "source": [
    "from keras.datasets import mnist\n",
    "\n",
    "# Leer el dataset de mnist\n",
    "(data_X_train, data_y_train), (data_X_test, data_y_test) = mnist.load_data()"
   ]
  },
  {
   "cell_type": "markdown",
   "metadata": {
    "id": "BbNSgxdfw0ix"
   },
   "source": [
    "### `MNIST dataset`:\n",
    "El dataset **`MNIST`** contiene 70.000 imagenes de números escritos a mano (números del 0 al 9, 10 dígitos). Cada imagen es de 28x28 píxeles en escala de grises (1 canal o 1 nivel de profundidad). Es uno de los dataset más utilizados para poner a prueba algoritmos de clasificación de imagenes.<br> [Dataset source](https://keras.io/api/datasets/mnist/)\n",
    "- La entrada (X) es una variable imagen de 28x28\n",
    "- La salida (y) es el dígito que representa la imagen en cuestión, un número de 0 al 9\n"
   ]
  },
  {
   "cell_type": "code",
   "execution_count": null,
   "metadata": {
    "colab": {
     "base_uri": "https://localhost:8080/",
     "height": 520
    },
    "executionInfo": {
     "elapsed": 7295,
     "status": "ok",
     "timestamp": 1606080712968,
     "user": {
      "displayName": "inove",
      "photoUrl": "https://lh3.googleusercontent.com/a-/AOh14GhXN9lpkKFLA5gp8tW9cD3CZ1yGa9DUy9HZOgZm=s64",
      "userId": "03494171924251581304"
     },
     "user_tz": 180
    },
    "id": "rGbCJanFR8oL",
    "outputId": "b2fb6100-f8c1-44da-8c0f-24cae2240c72"
   },
   "outputs": [],
   "source": [
    "# Visualizar las 100 primeras imagenes\n",
    "fig = plt.figure(figsize=(16,9))\n",
    "for i in range(100):\n",
    "    ax = fig.add_subplot(10, 10, i+1)\n",
    "    ax.axis('off')\n",
    "    plt.imshow(data_X_train[i], cmap='Greys')\n",
    "plt.show()"
   ]
  },
  {
   "cell_type": "code",
   "execution_count": null,
   "metadata": {
    "colab": {
     "base_uri": "https://localhost:8080/",
     "height": 281
    },
    "executionInfo": {
     "elapsed": 7282,
     "status": "ok",
     "timestamp": 1606080712971,
     "user": {
      "displayName": "inove",
      "photoUrl": "https://lh3.googleusercontent.com/a-/AOh14GhXN9lpkKFLA5gp8tW9cD3CZ1yGa9DUy9HZOgZm=s64",
      "userId": "03494171924251581304"
     },
     "user_tz": 180
    },
    "id": "1u7UhhVKR2qu",
    "outputId": "30fceb9d-0c3c-4431-c71c-f95ba9f211f0"
   },
   "outputs": [],
   "source": [
    "plt.imshow(data_X_train[0], cmap='gray')\n",
    "plt.title(\"Número: \" + str(data_y_train[0]))\n",
    "plt.show()"
   ]
  },
  {
   "cell_type": "markdown",
   "metadata": {
    "id": "NHHsGe1Qypde"
   },
   "source": [
    "# Procesar datos\n",
    "<img src=\"https://raw.githubusercontent.com/InoveAlumnos/dataset_analytics_python/master/images/Pipeline2.png\" width=\"1000\" align=\"middle\">"
   ]
  },
  {
   "cell_type": "code",
   "execution_count": null,
   "metadata": {
    "colab": {
     "base_uri": "https://localhost:8080/"
    },
    "executionInfo": {
     "elapsed": 7269,
     "status": "ok",
     "timestamp": 1606080712973,
     "user": {
      "displayName": "inove",
      "photoUrl": "https://lh3.googleusercontent.com/a-/AOh14GhXN9lpkKFLA5gp8tW9cD3CZ1yGa9DUy9HZOgZm=s64",
      "userId": "03494171924251581304"
     },
     "user_tz": 180
    },
    "id": "uvzaKBMbyoiy",
    "outputId": "0ad2bdd8-07d2-41f2-af55-5281710b196b"
   },
   "outputs": [],
   "source": [
    "# Observar como está representada la imagen, ver fila del medio (14)\n",
    "print(data_X_train[0][14, :])"
   ]
  },
  {
   "cell_type": "code",
   "execution_count": null,
   "metadata": {
    "id": "Cw9HbE88y3wu"
   },
   "outputs": [],
   "source": [
    "# Por los resultados podemos ver que la imagen está representada de 0 a 255\n",
    "# Normalizamos los datos para que se encuentren entre 0 y 1\n",
    "X_train_norm = data_X_train / 255\n",
    "X_test_norm = data_X_test / 255"
   ]
  },
  {
   "cell_type": "code",
   "execution_count": null,
   "metadata": {
    "colab": {
     "base_uri": "https://localhost:8080/"
    },
    "executionInfo": {
     "elapsed": 7257,
     "status": "ok",
     "timestamp": 1606080712976,
     "user": {
      "displayName": "inove",
      "photoUrl": "https://lh3.googleusercontent.com/a-/AOh14GhXN9lpkKFLA5gp8tW9cD3CZ1yGa9DUy9HZOgZm=s64",
      "userId": "03494171924251581304"
     },
     "user_tz": 180
    },
    "id": "LirgXKpiy8dr",
    "outputId": "3b530e5e-be17-4a6e-e08b-c832e8350419"
   },
   "outputs": [],
   "source": [
    "print('Cantidad de datos en observacion:', X_train_norm.shape[0])"
   ]
  },
  {
   "cell_type": "code",
   "execution_count": null,
   "metadata": {
    "colab": {
     "base_uri": "https://localhost:8080/"
    },
    "executionInfo": {
     "elapsed": 7247,
     "status": "ok",
     "timestamp": 1606080712977,
     "user": {
      "displayName": "inove",
      "photoUrl": "https://lh3.googleusercontent.com/a-/AOh14GhXN9lpkKFLA5gp8tW9cD3CZ1yGa9DUy9HZOgZm=s64",
      "userId": "03494171924251581304"
     },
     "user_tz": 180
    },
    "id": "N-HTzboa4q-5",
    "outputId": "f3bfcd46-438e-4db5-88c4-94034b9577e9"
   },
   "outputs": [],
   "source": [
    "print('Tamaño de la imagen:', X_train_norm[0].shape)"
   ]
  },
  {
   "cell_type": "markdown",
   "metadata": {
    "id": "0BnzYdlRzBxz"
   },
   "source": [
    "# Explorar datos\n",
    "<img src=\"https://raw.githubusercontent.com/InoveAlumnos/dataset_analytics_python/master/images/Pipeline3.png\" width=\"1000\" align=\"middle\">"
   ]
  },
  {
   "cell_type": "code",
   "execution_count": null,
   "metadata": {
    "colab": {
     "base_uri": "https://localhost:8080/"
    },
    "executionInfo": {
     "elapsed": 7238,
     "status": "ok",
     "timestamp": 1606080712979,
     "user": {
      "displayName": "inove",
      "photoUrl": "https://lh3.googleusercontent.com/a-/AOh14GhXN9lpkKFLA5gp8tW9cD3CZ1yGa9DUy9HZOgZm=s64",
      "userId": "03494171924251581304"
     },
     "user_tz": 180
    },
    "id": "9uWcuzLX58Z9",
    "outputId": "d1bfe417-ec5c-4840-cee6-ba63a0cd9718"
   },
   "outputs": [],
   "source": [
    "# Observar el los primeros 10 datos del dataset de y_train\n",
    "print(data_y_train[:10])"
   ]
  },
  {
   "cell_type": "code",
   "execution_count": null,
   "metadata": {
    "colab": {
     "base_uri": "https://localhost:8080/",
     "height": 107
    },
    "executionInfo": {
     "elapsed": 7228,
     "status": "ok",
     "timestamp": 1606080712981,
     "user": {
      "displayName": "inove",
      "photoUrl": "https://lh3.googleusercontent.com/a-/AOh14GhXN9lpkKFLA5gp8tW9cD3CZ1yGa9DUy9HZOgZm=s64",
      "userId": "03494171924251581304"
     },
     "user_tz": 180
    },
    "id": "X2w_eW5QI-hf",
    "outputId": "2683acf5-7466-4795-b656-1f3c6fb3136c"
   },
   "outputs": [],
   "source": [
    "# Exploramos los primeros diez 8 del dataset de train\n",
    "fig = plt.figure(figsize=(16,9))\n",
    "j = 0\n",
    "\n",
    "for i in range(10):\n",
    "    ax = fig.add_subplot(1, 10, i+1)\n",
    "    ax.axis('off')\n",
    "    while True:\n",
    "        if data_y_train[j] == 8:\n",
    "            ax.imshow(X_train_norm[j], cmap='Greys')\n",
    "            j += 1\n",
    "            break\n",
    "        j += 1\n",
    "plt.show()"
   ]
  },
  {
   "cell_type": "code",
   "execution_count": null,
   "metadata": {
    "colab": {
     "base_uri": "https://localhost:8080/",
     "height": 107
    },
    "executionInfo": {
     "elapsed": 8064,
     "status": "ok",
     "timestamp": 1606080713831,
     "user": {
      "displayName": "inove",
      "photoUrl": "https://lh3.googleusercontent.com/a-/AOh14GhXN9lpkKFLA5gp8tW9cD3CZ1yGa9DUy9HZOgZm=s64",
      "userId": "03494171924251581304"
     },
     "user_tz": 180
    },
    "id": "pvDJ8sx85JAH",
    "outputId": "23195524-c242-464c-8b6f-947acfa5eb69"
   },
   "outputs": [],
   "source": [
    "# Exploramos los primeros diez 8 del dataset de test\n",
    "fig = plt.figure(figsize=(16,9))\n",
    "j = 0\n",
    "\n",
    "for i in range(10):\n",
    "    ax = fig.add_subplot(1, 10, i+1)\n",
    "    ax.axis('off')\n",
    "    while True:\n",
    "        if data_y_test[j] == 8:\n",
    "            ax.imshow(X_test_norm[j], cmap='Greys')\n",
    "            j += 1\n",
    "            break\n",
    "        j += 1\n",
    "plt.show()"
   ]
  },
  {
   "cell_type": "markdown",
   "metadata": {
    "id": "VUs6mDw67LAQ"
   },
   "source": [
    "#### Transformar los imagenes de 28x28 (2 dimensiones) en un array de una dimensión (28x28 = 784)\n",
    "Esto se realiza porque las redes neuronales no soportan que se ingrese un array de dos dimensiones, solo soportan ingresar \"N\" features (un array)"
   ]
  },
  {
   "cell_type": "code",
   "execution_count": null,
   "metadata": {
    "id": "9aODNf0SoPyK"
   },
   "outputs": [],
   "source": [
    "# proceso de flatten --> transformar las imagenes en un vector de 1 dimension\n",
    "\n",
    "num_pixels = X_train_norm.shape[1] * X_train_norm.shape[2]\n",
    "\n",
    "X_train = X_train_norm.reshape(X_train_norm.shape[0], num_pixels).astype('float32')\n",
    "X_test = X_test_norm.reshape(X_test_norm.shape[0], num_pixels).astype('float32')"
   ]
  },
  {
   "cell_type": "code",
   "execution_count": null,
   "metadata": {
    "colab": {
     "base_uri": "https://localhost:8080/",
     "height": 285
    },
    "executionInfo": {
     "elapsed": 8052,
     "status": "ok",
     "timestamp": 1606080713836,
     "user": {
      "displayName": "inove",
      "photoUrl": "https://lh3.googleusercontent.com/a-/AOh14GhXN9lpkKFLA5gp8tW9cD3CZ1yGa9DUy9HZOgZm=s64",
      "userId": "03494171924251581304"
     },
     "user_tz": 180
    },
    "id": "oZ8aVPG07xqF",
    "outputId": "203c71ca-bb21-4c9a-a648-57ac978cad48"
   },
   "outputs": [],
   "source": [
    "# ¿Cómo se ve ahora nuestra primera imagen?\n",
    "fig = plt.figure()\n",
    "ax = fig.add_subplot()\n",
    "ax.imshow(X_train[0].reshape(-1,1).T, cmap='gray')\n",
    "ax.set_xscale(\"log\")\n",
    "plt.title(\"Número: \" + str(data_y_train[0]))\n",
    "plt.show()"
   ]
  },
  {
   "cell_type": "code",
   "execution_count": null,
   "metadata": {
    "colab": {
     "base_uri": "https://localhost:8080/"
    },
    "executionInfo": {
     "elapsed": 8040,
     "status": "ok",
     "timestamp": 1606080713837,
     "user": {
      "displayName": "inove",
      "photoUrl": "https://lh3.googleusercontent.com/a-/AOh14GhXN9lpkKFLA5gp8tW9cD3CZ1yGa9DUy9HZOgZm=s64",
      "userId": "03494171924251581304"
     },
     "user_tz": 180
    },
    "id": "AOnLxPyC8PtG",
    "outputId": "f7c6dd0e-71eb-4500-bb5e-1f57ec32571e"
   },
   "outputs": [],
   "source": [
    "print('Datos en observacion:', X_train.shape)"
   ]
  },
  {
   "cell_type": "markdown",
   "metadata": {
    "id": "HQOAyB-M8W_P"
   },
   "source": [
    "Son 60000 vectores, cada vector representa lo mismo que una fila de un dataset. Cada fila o vector tiene 784 columnas"
   ]
  },
  {
   "cell_type": "code",
   "execution_count": null,
   "metadata": {
    "colab": {
     "base_uri": "https://localhost:8080/"
    },
    "executionInfo": {
     "elapsed": 8030,
     "status": "ok",
     "timestamp": 1606080713838,
     "user": {
      "displayName": "inove",
      "photoUrl": "https://lh3.googleusercontent.com/a-/AOh14GhXN9lpkKFLA5gp8tW9cD3CZ1yGa9DUy9HZOgZm=s64",
      "userId": "03494171924251581304"
     },
     "user_tz": 180
    },
    "id": "q3lQU6J_8Hd8",
    "outputId": "63dcbdaa-bd43-4a66-8370-e863f64ea7dc"
   },
   "outputs": [],
   "source": [
    "print('Dimensión de cada imagen faltten:', X_train[0].shape)"
   ]
  },
  {
   "cell_type": "markdown",
   "metadata": {
    "id": "7z_SuZlj3gbQ"
   },
   "source": [
    "# Entrenar modelo\n",
    "<img src=\"https://raw.githubusercontent.com/InoveAlumnos/dataset_analytics_python/master/images/Pipeline4.png\" width=\"1000\" align=\"middle\">"
   ]
  },
  {
   "cell_type": "markdown",
   "metadata": {
    "id": "ntY84fHj3q5q"
   },
   "source": [
    "Los datos ya estan dividios en train y test"
   ]
  },
  {
   "cell_type": "code",
   "execution_count": null,
   "metadata": {
    "colab": {
     "base_uri": "https://localhost:8080/"
    },
    "executionInfo": {
     "elapsed": 8017,
     "status": "ok",
     "timestamp": 1606080713839,
     "user": {
      "displayName": "inove",
      "photoUrl": "https://lh3.googleusercontent.com/a-/AOh14GhXN9lpkKFLA5gp8tW9cD3CZ1yGa9DUy9HZOgZm=s64",
      "userId": "03494171924251581304"
     },
     "user_tz": 180
    },
    "id": "3vdIz9_r-sMe",
    "outputId": "679d4dbd-8202-4020-a9d2-aa3124bdd862"
   },
   "outputs": [],
   "source": [
    "# Transformar la salida a oneHotEncoding con to_categorical\n",
    "y_train = to_categorical(data_y_train)\n",
    "y_test = to_categorical(data_y_test)\n",
    "y_train[:10]"
   ]
  },
  {
   "cell_type": "code",
   "execution_count": null,
   "metadata": {
    "colab": {
     "base_uri": "https://localhost:8080/"
    },
    "executionInfo": {
     "elapsed": 8008,
     "status": "ok",
     "timestamp": 1606080713841,
     "user": {
      "displayName": "inove",
      "photoUrl": "https://lh3.googleusercontent.com/a-/AOh14GhXN9lpkKFLA5gp8tW9cD3CZ1yGa9DUy9HZOgZm=s64",
      "userId": "03494171924251581304"
     },
     "user_tz": 180
    },
    "id": "5Wb3oMvn-mIF",
    "outputId": "7a634470-2de4-4f69-d9ac-61521c8d4ef8"
   },
   "outputs": [],
   "source": [
    "# input shape\n",
    "in_shape = X_train.shape[1]\n",
    "in_shape"
   ]
  },
  {
   "cell_type": "code",
   "execution_count": null,
   "metadata": {
    "colab": {
     "base_uri": "https://localhost:8080/"
    },
    "executionInfo": {
     "elapsed": 7998,
     "status": "ok",
     "timestamp": 1606080713843,
     "user": {
      "displayName": "inove",
      "photoUrl": "https://lh3.googleusercontent.com/a-/AOh14GhXN9lpkKFLA5gp8tW9cD3CZ1yGa9DUy9HZOgZm=s64",
      "userId": "03494171924251581304"
     },
     "user_tz": 180
    },
    "id": "wpYcXh1g_N3Q",
    "outputId": "d5ae840a-fb69-4e71-80c7-83f649dd5933"
   },
   "outputs": [],
   "source": [
    "# output shape\n",
    "out_shape = y_train.shape[1]\n",
    "out_shape"
   ]
  },
  {
   "cell_type": "code",
   "execution_count": null,
   "metadata": {
    "colab": {
     "base_uri": "https://localhost:8080/"
    },
    "executionInfo": {
     "elapsed": 13384,
     "status": "ok",
     "timestamp": 1606080719231,
     "user": {
      "displayName": "inove",
      "photoUrl": "https://lh3.googleusercontent.com/a-/AOh14GhXN9lpkKFLA5gp8tW9cD3CZ1yGa9DUy9HZOgZm=s64",
      "userId": "03494171924251581304"
     },
     "user_tz": 180
    },
    "id": "fu1u9JhXq9Dy",
    "outputId": "e74f2662-0b23-4367-9a0b-fbc69eec2ea8"
   },
   "outputs": [],
   "source": [
    "from keras.layers import Dense, Dropout\n",
    "\n",
    "model = Sequential()\n",
    "\n",
    "model.add(Dense(units=64, activation='relu', input_shape=(in_shape,)))\n",
    "model.add(Dense(units=64, activation='relu'))\n",
    "model.add(Dense(units=64, activation='relu'))\n",
    "model.add(Dense(units=out_shape, activation='softmax'))\n",
    "\n",
    "model.compile(optimizer=\"Adam\",\n",
    "              loss='categorical_crossentropy',\n",
    "              metrics=['accuracy'])\n",
    "\n",
    "model.summary()"
   ]
  },
  {
   "cell_type": "code",
   "execution_count": null,
   "metadata": {
    "colab": {
     "base_uri": "https://localhost:8080/"
    },
    "executionInfo": {
     "elapsed": 730,
     "status": "ok",
     "timestamp": 1606080725480,
     "user": {
      "displayName": "inove",
      "photoUrl": "https://lh3.googleusercontent.com/a-/AOh14GhXN9lpkKFLA5gp8tW9cD3CZ1yGa9DUy9HZOgZm=s64",
      "userId": "03494171924251581304"
     },
     "user_tz": 180
    },
    "id": "kua1SEwp3dlj",
    "outputId": "603cfa89-fd5c-4a6e-fd2d-539b756c8d40"
   },
   "outputs": [],
   "source": [
    "model = Sequential()\n",
    "\n",
    "model.add(Dense(units=4, activation='relu', input_shape=(6,)))\n",
    "model.add(Dense(units=3, activation='relu'))\n",
    "model.add(Dense(units=1, activation='sigmoid'))\n",
    "\n",
    "model.summary()"
   ]
  },
  {
   "cell_type": "code",
   "execution_count": null,
   "metadata": {
    "colab": {
     "base_uri": "https://localhost:8080/"
    },
    "executionInfo": {
     "elapsed": 20929,
     "status": "ok",
     "timestamp": 1606064375996,
     "user": {
      "displayName": "inove",
      "photoUrl": "https://lh3.googleusercontent.com/a-/AOh14GhXN9lpkKFLA5gp8tW9cD3CZ1yGa9DUy9HZOgZm=s64",
      "userId": "03494171924251581304"
     },
     "user_tz": 180
    },
    "id": "J_89g3dSm2wf",
    "outputId": "855ffb6c-b8be-4a34-b83d-cfb6ba08e81f"
   },
   "outputs": [],
   "source": [
    "history = model.fit(X_train, y_train, validation_split=0.2 , epochs=10, batch_size=128)"
   ]
  },
  {
   "cell_type": "code",
   "execution_count": null,
   "metadata": {
    "colab": {
     "base_uri": "https://localhost:8080/",
     "height": 265
    },
    "executionInfo": {
     "elapsed": 21259,
     "status": "ok",
     "timestamp": 1606064376339,
     "user": {
      "displayName": "inove",
      "photoUrl": "https://lh3.googleusercontent.com/a-/AOh14GhXN9lpkKFLA5gp8tW9cD3CZ1yGa9DUy9HZOgZm=s64",
      "userId": "03494171924251581304"
     },
     "user_tz": 180
    },
    "id": "xDuagYJHvNlm",
    "outputId": "f465cec3-fc0d-429a-f420-b1c3d8f6e26d"
   },
   "outputs": [],
   "source": [
    "epoch_count = range(1, len(history.history['accuracy']) + 1)\n",
    "sns.lineplot(x=epoch_count,  y=history.history['accuracy'], label='train')\n",
    "sns.lineplot(x=epoch_count,  y=history.history['val_accuracy'], label='valid')\n",
    "plt.show()"
   ]
  },
  {
   "cell_type": "markdown",
   "metadata": {
    "id": "ZF15cAnvi0L1"
   },
   "source": [
    "Se puede observar que el modelo con más capas ocultas tienen menos parámetros para entrar porque la capa expuesta a la entrada tiene menos neuronas.\n",
    "Pero, al aumentar la complejidad de la red con más capas profundas el sistema produce overfitting, deja de aprender"
   ]
  },
  {
   "cell_type": "code",
   "execution_count": null,
   "metadata": {
    "colab": {
     "base_uri": "https://localhost:8080/"
    },
    "executionInfo": {
     "elapsed": 21247,
     "status": "ok",
     "timestamp": 1606064376340,
     "user": {
      "displayName": "inove",
      "photoUrl": "https://lh3.googleusercontent.com/a-/AOh14GhXN9lpkKFLA5gp8tW9cD3CZ1yGa9DUy9HZOgZm=s64",
      "userId": "03494171924251581304"
     },
     "user_tz": 180
    },
    "id": "8xERthbSjP_L",
    "outputId": "47e318cd-1aea-4b8f-894a-512510e8189d"
   },
   "outputs": [],
   "source": [
    "# Para arreglar esto se utiliza regularizacion, que es el proceso por el cual\n",
    "# el sistema tiene la capacidad de \"apagar\" neuronas de las capas y buscar\n",
    "# el modelo que mejor funcione.\n",
    "model = Sequential()\n",
    "\n",
    "# Se seleccionó que se apagen el 20% de la neurona de la capa\n",
    "# A este número se lo obtuvo realizando diferentes pruebas, en general se\n",
    "# ensaya con --> 0.2, 0.5 y 0.8\n",
    "dropout_rate = 0.2\n",
    "\n",
    "model.add(Dense(units=64, activation='relu', input_shape=(in_shape,)))\n",
    "model.add(Dense(units=64, activation='relu'))\n",
    "model.add(Dropout(rate=dropout_rate))\n",
    "model.add(Dense(units=64, activation='relu'))\n",
    "model.add(Dropout(rate=dropout_rate))\n",
    "model.add(Dense(units=out_shape, activation='softmax'))\n",
    "\n",
    "model.compile(optimizer=\"Adam\",\n",
    "              loss='categorical_crossentropy',\n",
    "              metrics=['accuracy'])\n",
    "\n",
    "model.summary()"
   ]
  },
  {
   "cell_type": "code",
   "execution_count": null,
   "metadata": {
    "colab": {
     "base_uri": "https://localhost:8080/"
    },
    "executionInfo": {
     "elapsed": 35986,
     "status": "ok",
     "timestamp": 1606064391089,
     "user": {
      "displayName": "inove",
      "photoUrl": "https://lh3.googleusercontent.com/a-/AOh14GhXN9lpkKFLA5gp8tW9cD3CZ1yGa9DUy9HZOgZm=s64",
      "userId": "03494171924251581304"
     },
     "user_tz": 180
    },
    "id": "arA74ZVjjafe",
    "outputId": "9e5f00eb-02ea-4f22-d8ac-a1df26dcc15c"
   },
   "outputs": [],
   "source": [
    "history = model.fit(X_train, y_train, validation_split=0.2 , epochs=10, batch_size=128)"
   ]
  },
  {
   "cell_type": "code",
   "execution_count": null,
   "metadata": {
    "colab": {
     "base_uri": "https://localhost:8080/",
     "height": 265
    },
    "executionInfo": {
     "elapsed": 36400,
     "status": "ok",
     "timestamp": 1606064391516,
     "user": {
      "displayName": "inove",
      "photoUrl": "https://lh3.googleusercontent.com/a-/AOh14GhXN9lpkKFLA5gp8tW9cD3CZ1yGa9DUy9HZOgZm=s64",
      "userId": "03494171924251581304"
     },
     "user_tz": 180
    },
    "id": "yooziVp2jffZ",
    "outputId": "c3c93161-0b1f-414e-bd3f-0ffc574ae140"
   },
   "outputs": [],
   "source": [
    "epoch_count = range(1, len(history.history['accuracy']) + 1)\n",
    "sns.lineplot(x=epoch_count,  y=history.history['accuracy'], label='train')\n",
    "sns.lineplot(x=epoch_count,  y=history.history['val_accuracy'], label='valid')\n",
    "plt.show()"
   ]
  },
  {
   "cell_type": "code",
   "execution_count": null,
   "metadata": {
    "colab": {
     "base_uri": "https://localhost:8080/"
    },
    "executionInfo": {
     "elapsed": 36390,
     "status": "ok",
     "timestamp": 1606064391519,
     "user": {
      "displayName": "inove",
      "photoUrl": "https://lh3.googleusercontent.com/a-/AOh14GhXN9lpkKFLA5gp8tW9cD3CZ1yGa9DUy9HZOgZm=s64",
      "userId": "03494171924251581304"
     },
     "user_tz": 180
    },
    "id": "J7a6463ZiHW2",
    "outputId": "7271216f-0070-49a2-80f9-a7b73fa8089d"
   },
   "outputs": [],
   "source": [
    "\n",
    "# Al apagar neuronas de las capas se puede seguir aumentando la complejidad\n",
    "# para ensayar\n",
    "model = Sequential()\n",
    "\n",
    "# Se seleccionó que se apagen el 20% de la neurona de la capa\n",
    "# A este número se lo obtuvo realizando diferentes pruebas, en general se\n",
    "# ensaya con --> 0.2, 0.5 y 0.8\n",
    "dropout_rate = 0.2\n",
    "\n",
    "model.add(Dense(units=64, activation='relu', input_shape=(in_shape,)))\n",
    "model.add(Dense(units=64, activation='relu'))\n",
    "model.add(Dropout(rate=dropout_rate))\n",
    "model.add(Dense(units=64, activation='relu'))\n",
    "model.add(Dropout(rate=dropout_rate))\n",
    "model.add(Dense(units=64, activation='relu'))\n",
    "model.add(Dropout(rate=dropout_rate))\n",
    "model.add(Dense(units=64, activation='relu'))\n",
    "model.add(Dropout(rate=dropout_rate))\n",
    "model.add(Dense(units=64, activation='relu'))\n",
    "model.add(Dropout(rate=dropout_rate))\n",
    "model.add(Dense(units=out_shape, activation='softmax'))\n",
    "\n",
    "model.compile(optimizer=\"Adam\",\n",
    "              loss='categorical_crossentropy',\n",
    "              metrics=['accuracy'])\n",
    "\n",
    "model.summary()"
   ]
  },
  {
   "cell_type": "code",
   "execution_count": null,
   "metadata": {
    "colab": {
     "base_uri": "https://localhost:8080/"
    },
    "executionInfo": {
     "elapsed": 56457,
     "status": "ok",
     "timestamp": 1606064411595,
     "user": {
      "displayName": "inove",
      "photoUrl": "https://lh3.googleusercontent.com/a-/AOh14GhXN9lpkKFLA5gp8tW9cD3CZ1yGa9DUy9HZOgZm=s64",
      "userId": "03494171924251581304"
     },
     "user_tz": 180
    },
    "id": "H8trLC3fiNVM",
    "outputId": "2bccf587-7d97-4d5e-88fa-7b563dfa7e28"
   },
   "outputs": [],
   "source": [
    "history = model.fit(X_train, y_train, validation_split=0.2 , epochs=10, batch_size=128)"
   ]
  },
  {
   "cell_type": "code",
   "execution_count": null,
   "metadata": {
    "colab": {
     "base_uri": "https://localhost:8080/",
     "height": 265
    },
    "executionInfo": {
     "elapsed": 56847,
     "status": "ok",
     "timestamp": 1606064412000,
     "user": {
      "displayName": "inove",
      "photoUrl": "https://lh3.googleusercontent.com/a-/AOh14GhXN9lpkKFLA5gp8tW9cD3CZ1yGa9DUy9HZOgZm=s64",
      "userId": "03494171924251581304"
     },
     "user_tz": 180
    },
    "id": "32KruDWjiM-B",
    "outputId": "8c6062df-bc88-449f-fd8d-27e48d932f47"
   },
   "outputs": [],
   "source": [
    "epoch_count = range(1, len(history.history['accuracy']) + 1)\n",
    "sns.lineplot(x=epoch_count,  y=history.history['accuracy'], label='train')\n",
    "sns.lineplot(x=epoch_count,  y=history.history['val_accuracy'], label='valid')\n",
    "plt.show()"
   ]
  },
  {
   "cell_type": "code",
   "execution_count": null,
   "metadata": {
    "colab": {
     "base_uri": "https://localhost:8080/"
    },
    "executionInfo": {
     "elapsed": 57096,
     "status": "ok",
     "timestamp": 1606064412259,
     "user": {
      "displayName": "inove",
      "photoUrl": "https://lh3.googleusercontent.com/a-/AOh14GhXN9lpkKFLA5gp8tW9cD3CZ1yGa9DUy9HZOgZm=s64",
      "userId": "03494171924251581304"
     },
     "user_tz": 180
    },
    "id": "NL0_TMz7Em4o",
    "outputId": "88420864-97d9-4fc9-9cd4-2f3f18cd9ebd"
   },
   "outputs": [],
   "source": [
    "y_hat_prob = model.predict(X_test)\n",
    "y_hat_prob[:3]"
   ]
  },
  {
   "cell_type": "code",
   "execution_count": null,
   "metadata": {
    "colab": {
     "base_uri": "https://localhost:8080/"
    },
    "executionInfo": {
     "elapsed": 57089,
     "status": "ok",
     "timestamp": 1606064412261,
     "user": {
      "displayName": "inove",
      "photoUrl": "https://lh3.googleusercontent.com/a-/AOh14GhXN9lpkKFLA5gp8tW9cD3CZ1yGa9DUy9HZOgZm=s64",
      "userId": "03494171924251581304"
     },
     "user_tz": 180
    },
    "id": "qxs4EZSBAZoh",
    "outputId": "c3da94ca-5c5f-4ffc-af29-1121ccc56dd6"
   },
   "outputs": [],
   "source": [
    "y_hat = np.argmax(y_hat_prob,axis=1)\n",
    "y_hat[:3]"
   ]
  },
  {
   "cell_type": "markdown",
   "metadata": {
    "id": "w3IfjUuI4XnD"
   },
   "source": [
    "# Validar modelo\n",
    "<img src=\"https://raw.githubusercontent.com/InoveAlumnos/dataset_analytics_python/master/images/Pipeline5.png\" width=\"1000\" align=\"middle\">"
   ]
  },
  {
   "cell_type": "code",
   "execution_count": null,
   "metadata": {
    "colab": {
     "base_uri": "https://localhost:8080/"
    },
    "executionInfo": {
     "elapsed": 57718,
     "status": "ok",
     "timestamp": 1606064412900,
     "user": {
      "displayName": "inove",
      "photoUrl": "https://lh3.googleusercontent.com/a-/AOh14GhXN9lpkKFLA5gp8tW9cD3CZ1yGa9DUy9HZOgZm=s64",
      "userId": "03494171924251581304"
     },
     "user_tz": 180
    },
    "id": "HnXeXHwdyHVx",
    "outputId": "3bb3c4de-0fb9-4425-ce61-ad930cd03e16"
   },
   "outputs": [],
   "source": [
    "# Calcular la exactitud (accuracy)\n",
    "scores = model.evaluate(X_test, y_test)\n",
    "scores[1]"
   ]
  },
  {
   "cell_type": "code",
   "execution_count": null,
   "metadata": {
    "colab": {
     "base_uri": "https://localhost:8080/",
     "height": 279
    },
    "executionInfo": {
     "elapsed": 58418,
     "status": "ok",
     "timestamp": 1606064413611,
     "user": {
      "displayName": "inove",
      "photoUrl": "https://lh3.googleusercontent.com/a-/AOh14GhXN9lpkKFLA5gp8tW9cD3CZ1yGa9DUy9HZOgZm=s64",
      "userId": "03494171924251581304"
     },
     "user_tz": 180
    },
    "id": "TeLeYLYz6ZhO",
    "outputId": "40e3bd13-34ef-473a-f9bc-f17ef28649ce"
   },
   "outputs": [],
   "source": [
    "from sklearn.metrics import confusion_matrix, ConfusionMatrixDisplay\n",
    "cm = confusion_matrix(y_test.argmax(axis=1), y_hat)\n",
    "cmd = ConfusionMatrixDisplay(cm, display_labels=list(range(10)))\n",
    "cmd.plot(cmap=plt.cm.Blues)\n",
    "plt.show()"
   ]
  },
  {
   "cell_type": "markdown",
   "metadata": {
    "id": "9dZxGbjG96jR"
   },
   "source": [
    "# Utilizar modelo\n",
    "<img src=\"https://raw.githubusercontent.com/InoveAlumnos/dataset_analytics_python/master/images/Pipeline6.png\" width=\"1000\" align=\"middle\">"
   ]
  },
  {
   "cell_type": "markdown",
   "metadata": {
    "id": "M6Tc5nBqbow8"
   },
   "source": [
    "Se utiliza el ranking de los peores 10 números clasificados con una ANN para evaluar contra este nuevo modelo de red neuronal"
   ]
  },
  {
   "cell_type": "code",
   "execution_count": null,
   "metadata": {
    "id": "noOsuU6Tb4GZ"
   },
   "outputs": [],
   "source": [
    "ranking_10 = [8183, 6765, 8522, 1325, 582, 9280, 5749, 3567, 3206, 9744]"
   ]
  },
  {
   "cell_type": "code",
   "execution_count": null,
   "metadata": {
    "id": "Cefy3ktFb6j6"
   },
   "outputs": [],
   "source": [
    "# Obtener los vectores para evaluar\n",
    "X_test_peores = X_test[ranking_10]\n",
    "y_test_peores = y_test[ranking_10]"
   ]
  },
  {
   "cell_type": "code",
   "execution_count": null,
   "metadata": {
    "colab": {
     "base_uri": "https://localhost:8080/"
    },
    "executionInfo": {
     "elapsed": 621,
     "status": "ok",
     "timestamp": 1606064422258,
     "user": {
      "displayName": "inove",
      "photoUrl": "https://lh3.googleusercontent.com/a-/AOh14GhXN9lpkKFLA5gp8tW9cD3CZ1yGa9DUy9HZOgZm=s64",
      "userId": "03494171924251581304"
     },
     "user_tz": 180
    },
    "id": "kB1tr2blcKpB",
    "outputId": "c30c372a-8e21-436c-bab6-020bcecd3b75"
   },
   "outputs": [],
   "source": [
    "# Calcular la exactitud\n",
    "score = model.evaluate(X_test_peores, y_test_peores)\n",
    "score[1]"
   ]
  },
  {
   "cell_type": "code",
   "execution_count": null,
   "metadata": {
    "colab": {
     "base_uri": "https://localhost:8080/"
    },
    "executionInfo": {
     "elapsed": 58398,
     "status": "ok",
     "timestamp": 1606064413617,
     "user": {
      "displayName": "inove",
      "photoUrl": "https://lh3.googleusercontent.com/a-/AOh14GhXN9lpkKFLA5gp8tW9cD3CZ1yGa9DUy9HZOgZm=s64",
      "userId": "03494171924251581304"
     },
     "user_tz": 180
    },
    "id": "oBfhuPeccbGP",
    "outputId": "08df0049-f616-4c0c-8baf-c07ba624465c"
   },
   "outputs": [],
   "source": [
    "# ¿Qué es lo que el sistema ve?\n",
    "y_hat_prob_peores = model.predict(X_test_peores)\n",
    "y_hat_peores = np.argmax(y_hat_prob_peores,axis=1)\n",
    "y_hat_peores"
   ]
  },
  {
   "cell_type": "code",
   "execution_count": null,
   "metadata": {
    "colab": {
     "base_uri": "https://localhost:8080/",
     "height": 123
    },
    "executionInfo": {
     "elapsed": 58995,
     "status": "ok",
     "timestamp": 1606064414228,
     "user": {
      "displayName": "inove",
      "photoUrl": "https://lh3.googleusercontent.com/a-/AOh14GhXN9lpkKFLA5gp8tW9cD3CZ1yGa9DUy9HZOgZm=s64",
      "userId": "03494171924251581304"
     },
     "user_tz": 180
    },
    "id": "yAxkIcGXcpLS",
    "outputId": "471e0433-ef15-40a1-946b-d1ca024df1d3"
   },
   "outputs": [],
   "source": [
    "\n",
    "fig = plt.figure(figsize=(16,9))\n",
    "j = 0\n",
    "\n",
    "for i in ranking_10:\n",
    "    ax = fig.add_subplot(1, 10, j+1)\n",
    "    ax.axis('off')\n",
    "    ax.imshow(X_test_norm[i], cmap='Greys')\n",
    "    ax.set_title(\"Número: \" + str(y_hat_peores[j]))\n",
    "    j += 1\n",
    "\n",
    "plt.show()"
   ]
  },
  {
   "cell_type": "markdown",
   "metadata": {
    "id": "h7yzVZcZ9-4m"
   },
   "source": [
    "# Conclusión\n",
    "<img src=\"https://raw.githubusercontent.com/InoveAlumnos/dataset_analytics_python/master/images/Pipeline7.png\" width=\"1000\" align=\"middle\">"
   ]
  },
  {
   "cell_type": "markdown",
   "metadata": {
    "id": "sWAReOgo-B7b"
   },
   "source": [
    "Al utilizar deep larning, redes profundas, logramos obtener un mejor resultado. __PERO!__ Al utilizar más capas fue necesario el proceso de regularización con dropout para poder evitar que un modelo más complejo produza overfiting. <br>\n",
    "Este modelo sigue siendo incapaz de manejar imagenes a color debido a la necesidad del proceso de flatten."
   ]
  }
 ],
 "metadata": {
  "accelerator": "GPU",
  "colab": {
   "collapsed_sections": [],
   "name": "3_mnist_dnn.ipynb",
   "provenance": []
  },
  "kernelspec": {
   "display_name": "Python 3",
   "language": "python",
   "name": "python3"
  },
  "language_info": {
   "codemirror_mode": {
    "name": "ipython",
    "version": 3
   },
   "file_extension": ".py",
   "mimetype": "text/x-python",
   "name": "python",
   "nbconvert_exporter": "python",
   "pygments_lexer": "ipython3",
   "version": "3.8.5"
  }
 },
 "nbformat": 4,
 "nbformat_minor": 4
}
