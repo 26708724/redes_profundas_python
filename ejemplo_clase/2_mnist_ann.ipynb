{
  "nbformat": 4,
  "nbformat_minor": 0,
  "metadata": {
    "accelerator": "GPU",
    "colab": {
      "name": "2_mnist_ann.ipynb",
      "provenance": [],
      "collapsed_sections": []
    },
    "kernelspec": {
      "display_name": "Python 3",
      "language": "python",
      "name": "python3"
    },
    "language_info": {
      "codemirror_mode": {
        "name": "ipython",
        "version": 3
      },
      "file_extension": ".py",
      "mimetype": "text/x-python",
      "name": "python",
      "nbconvert_exporter": "python",
      "pygments_lexer": "ipython3",
      "version": "3.8.5"
    }
  },
  "cells": [
    {
      "cell_type": "markdown",
      "metadata": {
        "id": "67RBrvkUviuj"
      },
      "source": [
        "<a href=\"https://www.inove.com.ar\"><img src=\"https://raw.githubusercontent.com/InoveAlumnos/dataset_analytics_python/master/images/PA%20Banner.png\" width=\"1000\" align=\"center\"></a>\n",
        "\n",
        "\n",
        "# Ejercicio de clasificación con redes neuronales (ANN)\n",
        "\n",
        "Ejemplo de clasificación utilizando redes neuronales para la clasificación de imagenes<br>\n",
        "\n",
        "v1.1"
      ]
    },
    {
      "cell_type": "code",
      "metadata": {
        "id": "y2sSeyEovSw-"
      },
      "source": [
        "import os\n",
        "import platform\n",
        "\n",
        "import numpy as np\n",
        "import matplotlib.pyplot as plt\n",
        "import seaborn as sns\n",
        "import pandas as pd\n",
        "\n",
        "import keras\n",
        "from keras.models import Sequential\n",
        "#from keras.utils import to_categorical  \n",
        "from keras.utils.np_utils import to_categorical # Si esto no funciona, probar con el import anterior"
      ],
      "execution_count": null,
      "outputs": []
    },
    {
      "cell_type": "markdown",
      "metadata": {
        "id": "7Szo7P_3v00C"
      },
      "source": [
        "# Recolectar datos\n",
        "<img src=\"https://raw.githubusercontent.com/InoveAlumnos/dataset_analytics_python/master/images/Pipeline1.png\" width=\"1000\" align=\"middle\">"
      ]
    },
    {
      "cell_type": "code",
      "metadata": {
        "id": "HnVpNGuAvyFi"
      },
      "source": [
        "from keras.datasets import mnist\n",
        "\n",
        "# Leer el dataset de mnist\n",
        "(data_X_train, data_y_train), (data_X_test, data_y_test) = mnist.load_data()"
      ],
      "execution_count": null,
      "outputs": []
    },
    {
      "cell_type": "markdown",
      "metadata": {
        "id": "BbNSgxdfw0ix"
      },
      "source": [
        "### `MNIST dataset`:\n",
        "El dataset **`MNIST`** contiene 70.000 imagenes de números escritos a mano (números del 0 al 9, 10 dígitos). Cada imagen es de 28x28 píxeles en escala de grises (1 canal o 1 nivel de profundidad). Es uno de los dataset más utilizados para poner a prueba algoritmos de clasificación de imagenes.<br> [Dataset source](https://keras.io/api/datasets/mnist/)\n",
        "- La entrada (X) es una variable imagen de 28x28\n",
        "- La salida (y) es el dígito que representa la imagen en cuestión, un número de 0 al 9\n"
      ]
    },
    {
      "cell_type": "code",
      "metadata": {
        "id": "rGbCJanFR8oL"
      },
      "source": [
        "# Visualizar las 100 primeras imagenes\n",
        "fig = plt.figure(figsize=(16,9))\n",
        "for i in range(100):\n",
        "    ax = fig.add_subplot(10, 10, i+1)\n",
        "    ax.axis('off')\n",
        "    plt.imshow(data_X_train[i], cmap='Greys')\n",
        "plt.show()"
      ],
      "execution_count": null,
      "outputs": []
    },
    {
      "cell_type": "code",
      "metadata": {
        "id": "1u7UhhVKR2qu"
      },
      "source": [
        "plt.imshow(data_X_train[0], cmap='gray')\n",
        "plt.title(\"Número: \" + str(data_y_train[0]))\n",
        "plt.show()"
      ],
      "execution_count": null,
      "outputs": []
    },
    {
      "cell_type": "markdown",
      "metadata": {
        "id": "NHHsGe1Qypde"
      },
      "source": [
        "# Procesar datos\n",
        "<img src=\"https://raw.githubusercontent.com/InoveAlumnos/dataset_analytics_python/master/images/Pipeline2.png\" width=\"1000\" align=\"middle\">"
      ]
    },
    {
      "cell_type": "code",
      "metadata": {
        "id": "uvzaKBMbyoiy"
      },
      "source": [
        "# Observar como está representada la imagen, ver fila del medio (14)\n",
        "print(data_X_train[0][14, :])"
      ],
      "execution_count": null,
      "outputs": []
    },
    {
      "cell_type": "code",
      "metadata": {
        "id": "Cw9HbE88y3wu"
      },
      "source": [
        "# Por los resultados podemos ver que la imagen está representada de 0 a 255\n",
        "# Normalizamos los datos para que se encuentren entre 0 y 1\n",
        "X_train_norm = data_X_train / 255\n",
        "X_test_norm = data_X_test / 255"
      ],
      "execution_count": null,
      "outputs": []
    },
    {
      "cell_type": "code",
      "metadata": {
        "id": "LirgXKpiy8dr"
      },
      "source": [
        "print('Cantidad de datos en observacion:', X_train_norm.shape[0])"
      ],
      "execution_count": null,
      "outputs": []
    },
    {
      "cell_type": "code",
      "metadata": {
        "id": "N-HTzboa4q-5"
      },
      "source": [
        "print('Tamaño de la imagen:', X_train_norm[0].shape)"
      ],
      "execution_count": null,
      "outputs": []
    },
    {
      "cell_type": "markdown",
      "metadata": {
        "id": "0BnzYdlRzBxz"
      },
      "source": [
        "# Explorar datos\n",
        "<img src=\"https://raw.githubusercontent.com/InoveAlumnos/dataset_analytics_python/master/images/Pipeline3.png\" width=\"1000\" align=\"middle\">"
      ]
    },
    {
      "cell_type": "code",
      "metadata": {
        "id": "9uWcuzLX58Z9"
      },
      "source": [
        "# Observar el los primeros 10 datos del dataset de y_train\n",
        "print(data_y_train[:10])"
      ],
      "execution_count": null,
      "outputs": []
    },
    {
      "cell_type": "code",
      "metadata": {
        "id": "X2w_eW5QI-hf"
      },
      "source": [
        "# Exploramos los primeros diez 8 del dataset de train\n",
        "fig = plt.figure(figsize=(16,9))\n",
        "j = 0\n",
        "\n",
        "for i in range(10):\n",
        "    ax = fig.add_subplot(1, 10, i+1)\n",
        "    ax.axis('off')\n",
        "    while True:\n",
        "        if data_y_train[j] == 8:\n",
        "            ax.imshow(X_train_norm[j], cmap='Greys')\n",
        "            j += 1\n",
        "            break\n",
        "        j += 1\n",
        "plt.show()"
      ],
      "execution_count": null,
      "outputs": []
    },
    {
      "cell_type": "code",
      "metadata": {
        "id": "pvDJ8sx85JAH"
      },
      "source": [
        "# Exploramos los primeros diez 8 del dataset de test\n",
        "fig = plt.figure(figsize=(16,9))\n",
        "j = 0\n",
        "\n",
        "for i in range(10):\n",
        "    ax = fig.add_subplot(1, 10, i+1)\n",
        "    ax.axis('off')\n",
        "    while True:\n",
        "        if data_y_test[j] == 8:\n",
        "            ax.imshow(X_test_norm[j], cmap='Greys')\n",
        "            j += 1\n",
        "            break\n",
        "        j += 1\n",
        "plt.show()"
      ],
      "execution_count": null,
      "outputs": []
    },
    {
      "cell_type": "markdown",
      "metadata": {
        "id": "VUs6mDw67LAQ"
      },
      "source": [
        "#### Transformar los imagenes de 28x28 (2 dimensiones) en un array de una dimensión (28x28 = 784)\n",
        "Esto se realiza porque las redes neuronales no soportan que se ingrese un array de dos dimensiones, solo soportan ingresar \"N\" features (un array)"
      ]
    },
    {
      "cell_type": "code",
      "metadata": {
        "id": "9aODNf0SoPyK"
      },
      "source": [
        "# proceso de flatten --> transformar las imagenes en un vector de 1 dimension\n",
        "\n",
        "num_pixels = X_train_norm.shape[1] * X_train_norm.shape[2]\n",
        "\n",
        "X_train = X_train_norm.reshape(X_train_norm.shape[0], num_pixels).astype('float32')\n",
        "X_test = X_test_norm.reshape(X_test_norm.shape[0], num_pixels).astype('float32')"
      ],
      "execution_count": null,
      "outputs": []
    },
    {
      "cell_type": "code",
      "metadata": {
        "id": "oZ8aVPG07xqF"
      },
      "source": [
        "# ¿Cómo se ve ahora nuestra primera imagen?\n",
        "fig = plt.figure()\n",
        "ax = fig.add_subplot()\n",
        "ax.imshow(X_train[0].reshape(-1,1).T, cmap='gray')\n",
        "ax.set_xscale(\"log\")\n",
        "plt.title(\"Número: \" + str(data_y_train[0]))\n",
        "plt.show()"
      ],
      "execution_count": null,
      "outputs": []
    },
    {
      "cell_type": "code",
      "metadata": {
        "id": "AOnLxPyC8PtG"
      },
      "source": [
        "print('Datos en observacion:', X_train.shape)"
      ],
      "execution_count": null,
      "outputs": []
    },
    {
      "cell_type": "markdown",
      "metadata": {
        "id": "HQOAyB-M8W_P"
      },
      "source": [
        "Son 60000 vectores, cada vector representa lo mismo que una fila de un dataset. Cada fila o vector tiene 784 columnas"
      ]
    },
    {
      "cell_type": "code",
      "metadata": {
        "id": "q3lQU6J_8Hd8"
      },
      "source": [
        "print('Dimensión de cada imagen faltten:', X_train[0].shape)"
      ],
      "execution_count": null,
      "outputs": []
    },
    {
      "cell_type": "markdown",
      "metadata": {
        "id": "7z_SuZlj3gbQ"
      },
      "source": [
        "# Entrenar modelo\n",
        "<img src=\"https://raw.githubusercontent.com/InoveAlumnos/dataset_analytics_python/master/images/Pipeline4.png\" width=\"1000\" align=\"middle\">"
      ]
    },
    {
      "cell_type": "markdown",
      "metadata": {
        "id": "ntY84fHj3q5q"
      },
      "source": [
        "Los datos ya estan dividios en train y test"
      ]
    },
    {
      "cell_type": "code",
      "metadata": {
        "id": "3vdIz9_r-sMe"
      },
      "source": [
        "# Transformar la salida a oneHotEncoding con to_categorical\n",
        "y_train = to_categorical(data_y_train)\n",
        "y_test = to_categorical(data_y_test)\n",
        "y_train[:10]"
      ],
      "execution_count": null,
      "outputs": []
    },
    {
      "cell_type": "code",
      "metadata": {
        "id": "5Wb3oMvn-mIF"
      },
      "source": [
        "# input shape\n",
        "in_shape = X_train.shape[1]\n",
        "in_shape"
      ],
      "execution_count": null,
      "outputs": []
    },
    {
      "cell_type": "code",
      "metadata": {
        "id": "wpYcXh1g_N3Q"
      },
      "source": [
        "# output shape\n",
        "out_shape = y_train.shape[1]\n",
        "out_shape"
      ],
      "execution_count": null,
      "outputs": []
    },
    {
      "cell_type": "code",
      "metadata": {
        "id": "fu1u9JhXq9Dy"
      },
      "source": [
        "from keras.layers import Dense\n",
        "\n",
        "model = Sequential()\n",
        "\n",
        "model.add(Dense(units=128, activation='sigmoid', input_shape=(in_shape,)))\n",
        "model.add(Dense(units=out_shape, activation='softmax'))\n",
        "\n",
        "model.compile(optimizer=\"Adam\",\n",
        "              loss='categorical_crossentropy',\n",
        "              metrics=['accuracy'])"
      ],
      "execution_count": null,
      "outputs": []
    },
    {
      "cell_type": "code",
      "metadata": {
        "id": "eUqp47r5hOCv"
      },
      "source": [
        "model.summary()"
      ],
      "execution_count": null,
      "outputs": []
    },
    {
      "cell_type": "code",
      "metadata": {
        "id": "J_89g3dSm2wf"
      },
      "source": [
        "history = model.fit(X_train, y_train, validation_split=0.2 , epochs=10, batch_size=128)"
      ],
      "execution_count": null,
      "outputs": []
    },
    {
      "cell_type": "code",
      "metadata": {
        "id": "xDuagYJHvNlm"
      },
      "source": [
        "epoch_count = range(1, len(history.history['accuracy']) + 1)\n",
        "sns.lineplot(x=epoch_count,  y=history.history['accuracy'], label='train')\n",
        "sns.lineplot(x=epoch_count,  y=history.history['val_accuracy'], label='valid')\n",
        "plt.show()"
      ],
      "execution_count": null,
      "outputs": []
    },
    {
      "cell_type": "code",
      "metadata": {
        "id": "NL0_TMz7Em4o"
      },
      "source": [
        "y_hat_prob = model.predict(X_test)\n",
        "y_hat_prob[:3]"
      ],
      "execution_count": null,
      "outputs": []
    },
    {
      "cell_type": "code",
      "metadata": {
        "id": "qxs4EZSBAZoh"
      },
      "source": [
        "y_hat = np.argmax(y_hat_prob,axis=1)\n",
        "y_hat[:3]"
      ],
      "execution_count": null,
      "outputs": []
    },
    {
      "cell_type": "markdown",
      "metadata": {
        "id": "w3IfjUuI4XnD"
      },
      "source": [
        "# Validar modelo\n",
        "<img src=\"https://raw.githubusercontent.com/InoveAlumnos/dataset_analytics_python/master/images/Pipeline5.png\" width=\"1000\" align=\"middle\">"
      ]
    },
    {
      "cell_type": "code",
      "metadata": {
        "id": "HnXeXHwdyHVx"
      },
      "source": [
        "# Calcular la exactitud (accuracy)\n",
        "scores = model.evaluate(X_test, y_test)\n",
        "scores[1]"
      ],
      "execution_count": null,
      "outputs": []
    },
    {
      "cell_type": "code",
      "metadata": {
        "id": "TeLeYLYz6ZhO"
      },
      "source": [
        "from sklearn.metrics import confusion_matrix, ConfusionMatrixDisplay\n",
        "cm = confusion_matrix(y_test.argmax(axis=1), y_hat)\n",
        "cmd = ConfusionMatrixDisplay(cm, display_labels=list(range(10)))\n",
        "cmd.plot(cmap=plt.cm.Blues)\n",
        "plt.show()"
      ],
      "execution_count": null,
      "outputs": []
    },
    {
      "cell_type": "markdown",
      "metadata": {
        "id": "9dZxGbjG96jR"
      },
      "source": [
        "# Utilizar modelo\n",
        "<img src=\"https://raw.githubusercontent.com/InoveAlumnos/dataset_analytics_python/master/images/Pipeline6.png\" width=\"1000\" align=\"middle\">"
      ]
    },
    {
      "cell_type": "markdown",
      "metadata": {
        "id": "pB17syh_ZTBs"
      },
      "source": [
        "Es hora de buscar los peores dígitos calificados!<br>\n",
        "__NOTA__: No se entrará en detalle sobre el codigo utilizado en la función \"ranking_peores\". Se utilizó una vez para obtener los candidatos para evaluar de forma permanente de aquí en más en diferentes ensayos o notebooks. Los índices ahora se encuentran hardcodeados (invariantes y escritos en el código)"
      ]
    },
    {
      "cell_type": "code",
      "metadata": {
        "id": "9xpkUoAGdf4m"
      },
      "source": [
        "# Se puede ver en la tabla que los números más complejos de clasificar son\n",
        "# el 8 y el 9 principalmente por su forma, tomemos el número 8\n",
        "def ranking_peores(numero_observar):\n",
        "    \n",
        "    # Crear un array con los índices de cada fila (número de fila)\n",
        "    index = list(range(X_test.shape[0]))\n",
        "    index = np.asanyarray(index).reshape(-1, 1)\n",
        "\n",
        "    # Obtener solo aquellas muestras relacionadas con el\n",
        "    # numero a observar\n",
        "    mask = data_y_test == numero_observar\n",
        "    X_test_num = X_test[mask]\n",
        "    y_test_num = y_test[mask]\n",
        "    index_num = index[mask]\n",
        "\n",
        "    # Evaluar como fue clasificado este numero\n",
        "    y_hat_prob_num = model.predict(X_test_num)\n",
        "    y_hat_num = np.argmax(y_hat_prob_num,axis=1)\n",
        "\n",
        "    # Quedarnos unicamente con las predicciones que no coinciden\n",
        "    # con la búsqueda del número deseado, es decir,\n",
        "    # quedarnos con las malas predicciones\n",
        "    mak_error = y_hat_num != numero_observar\n",
        "    index_num_error = index_num[mak_error]\n",
        "    X_test_num_error = X_test_num[mak_error]\n",
        "    print(\"Cantidad de\", numero_observar, \"mal clasificados:\", X_test_num_error.shape[0])\n",
        "\n",
        "    # En este proceso buscaremos los peores mal clasificados\n",
        "    # Primero obtener la probabilidades de los números mal clasificados\n",
        "    y_hat_prob_num_error = y_hat_prob_num[mak_error][:, numero_observar-1].reshape(-1, 1)\n",
        "    # Les agregamos una columna con le indice\n",
        "    y_hat_prob_num_error = np.concatenate((y_hat_prob_num_error, index_num_error), axis=1)\n",
        "    # Ordernar la lista de los peores a los mejores calificados\n",
        "    peores_num = y_hat_prob_num_error[y_hat_prob_num_error[:,0].argsort()]\n",
        "    # Obtener los peores 10\n",
        "    ranking_10 = [int(peores_num[i, 1]) for i in range(10)]\n",
        "    print(\"Indices de los peores dígitos\", numero_observar, \"mal clasificados\")\n",
        "    print(ranking_10)\n",
        "    return ranking_10"
      ],
      "execution_count": null,
      "outputs": []
    },
    {
      "cell_type": "markdown",
      "metadata": {
        "id": "M6Tc5nBqbow8"
      },
      "source": [
        "__NOTA__: De aquí es más es importante que el alumno pueda continuar el análisis, teniendo en consideración que \"ranking_10\" posee los indices de los peores 10 clasificados. Esos índices se utilizarán en otros notebooks"
      ]
    },
    {
      "cell_type": "code",
      "metadata": {
        "id": "noOsuU6Tb4GZ"
      },
      "source": [
        "ranking_10 = [8183, 6765, 8522, 1325, 582, 9280, 5749, 3567, 3206, 9744]"
      ],
      "execution_count": null,
      "outputs": []
    },
    {
      "cell_type": "code",
      "metadata": {
        "id": "34IVhvvPbO9a"
      },
      "source": [
        "fig = plt.figure(figsize=(16,9))\n",
        "j = 0\n",
        "\n",
        "for i in ranking_10:\n",
        "    ax = fig.add_subplot(1, 10, j+1)\n",
        "    ax.axis('off')\n",
        "    ax.imshow(X_test_norm[i], cmap='Greys')\n",
        "    j += 1\n",
        "\n",
        "plt.show()"
      ],
      "execution_count": null,
      "outputs": []
    },
    {
      "cell_type": "code",
      "metadata": {
        "id": "Cefy3ktFb6j6"
      },
      "source": [
        "# Obtener el vector de entrada para evaluar\n",
        "X_test_peores = X_test[ranking_10]\n",
        "X_test_peores.shape"
      ],
      "execution_count": null,
      "outputs": []
    },
    {
      "cell_type": "code",
      "metadata": {
        "id": "HiLPxuGfcI6v"
      },
      "source": [
        "# Obtener el vector de salida para evaluar\n",
        "y_test_peores = y_test[ranking_10]\n",
        "y_test_peores.shape"
      ],
      "execution_count": null,
      "outputs": []
    },
    {
      "cell_type": "code",
      "metadata": {
        "id": "kB1tr2blcKpB"
      },
      "source": [
        "# Calcular la exactitud\n",
        "score = model.evaluate(X_test_peores, y_test_peores)\n",
        "score[1]"
      ],
      "execution_count": null,
      "outputs": []
    },
    {
      "cell_type": "code",
      "metadata": {
        "id": "oBfhuPeccbGP"
      },
      "source": [
        "# ¿Qué es lo que el sistema ve?\n",
        "y_hat_prob_peores = model.predict(X_test_peores)\n",
        "y_hat_peores = np.argmax(y_hat_prob_peores,axis=1)\n",
        "y_hat_peores"
      ],
      "execution_count": null,
      "outputs": []
    },
    {
      "cell_type": "code",
      "metadata": {
        "id": "yAxkIcGXcpLS"
      },
      "source": [
        "\n",
        "fig = plt.figure(figsize=(16,9))\n",
        "j = 0\n",
        "\n",
        "for i in ranking_10:\n",
        "    ax = fig.add_subplot(1, 10, j+1)\n",
        "    ax.axis('off')\n",
        "    ax.imshow(X_test_norm[i], cmap='Greys')\n",
        "    ax.set_title(\"Número: \" + str(y_hat_peores[j]))\n",
        "    j += 1\n",
        "\n",
        "plt.show()"
      ],
      "execution_count": null,
      "outputs": []
    },
    {
      "cell_type": "markdown",
      "metadata": {
        "id": "h7yzVZcZ9-4m"
      },
      "source": [
        "# Conclusión\n",
        "<img src=\"https://raw.githubusercontent.com/InoveAlumnos/dataset_analytics_python/master/images/Pipeline7.png\" width=\"1000\" align=\"middle\">"
      ]
    },
    {
      "cell_type": "markdown",
      "metadata": {
        "id": "sWAReOgo-B7b"
      },
      "source": [
        "Al utilizar un modelo clásico de redes neuronales (ANN) de una sola capa oculta vemos que el modelo es ineficiente en clasificar aquellos dígitos o números que no están compuestos por rectas y tienen mayor cantidad de curvas. <br>\n",
        "Este modelo además es incapaz de manejar imagenes a color debido a la necesidad del proceso de flatten."
      ]
    },
    {
      "cell_type": "markdown",
      "metadata": {
        "id": "HFY5EpDBbUhs"
      },
      "source": [
        "# Ejemplo con Radio\n"
      ]
    },
    {
      "cell_type": "markdown",
      "metadata": {
        "id": "QzbOblQpbch9"
      },
      "source": [
        "Ejemplo con Gradio\n",
        "Gradio es una librería para realizar GUI rápida de prueba para nuestros modelos\\ \n",
        "Referencias:\n",
        "\n",
        "- https://www.gradio.app/getting_started\n",
        "- https://www.gradio.app/\n",
        "- https://www.gradio.app/docs"
      ]
    },
    {
      "cell_type": "code",
      "metadata": {
        "id": "_rqtBa6ObbU4"
      },
      "source": [
        "# Instalar Gradio\n",
        "import sys\n",
        "!{sys.executable} -m pip install gradio --quiet"
      ],
      "execution_count": null,
      "outputs": []
    },
    {
      "cell_type": "code",
      "metadata": {
        "id": "3lFBNBXjbptH"
      },
      "source": [
        "import gradio as gr\n",
        "\n",
        "def recognize_digit(img):\n",
        "    # Normalizacion 0..1\n",
        "    img = img / 255.0\n",
        "\n",
        "    # Flatten\n",
        "    num_pixels = img.shape[0] * img.shape[1]\n",
        "    img = img.reshape(1, num_pixels).astype('float32')\n",
        "\n",
        "    # Predict\n",
        "    prediction = model.predict([img]).tolist()[0]\n",
        "    # Mostrar el puntaje de prediccion para cada digito\n",
        "    return {str(i): prediction[i] for i in range(10)}\n",
        "\n",
        "iface = gr.Interface(fn=recognize_digit, inputs=\"sketchpad\", outputs=\"label\").launch(debug=True)"
      ],
      "execution_count": null,
      "outputs": []
    }
  ]
}